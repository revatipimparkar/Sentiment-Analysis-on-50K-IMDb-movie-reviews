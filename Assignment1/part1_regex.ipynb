{
 "cells": [
  {
   "cell_type": "code",
   "execution_count": 1,
   "id": "3807954b",
   "metadata": {},
   "outputs": [],
   "source": [
    "# 1: Write a regular expression that can find all amounts of money in a text. Your expression should be able to deal with different formats and \n",
    "#currencies, for example £50,000 and £117.3m as well as 30p, 500m euro, 338bn euros, $15bn and $92.88. Make sure that you can at least detect \n",
    "#amounts in Pounds, Dollars and Euros. (20pts)"
   ]
  },
  {
   "cell_type": "code",
   "execution_count": 2,
   "id": "dc479905",
   "metadata": {},
   "outputs": [],
   "source": [
    "import re  # importing regular expression"
   ]
  },
  {
   "cell_type": "code",
   "execution_count": 3,
   "id": "734b9d3b",
   "metadata": {},
   "outputs": [
    {
     "name": "stdout",
     "output_type": "stream",
     "text": [
      "['$131bn', '£100bn']\n",
      "['$100bn', '$17.4bn']\n"
     ]
    }
   ],
   "source": [
    "bbc = open(\"C://Users//ADMIN//OneDrive - University of Essex//labs//assignments//NLP assignment text1.txt\", 'r')    # reading BBC site text copied into the text file named \"NLP assignment text1.txt\" \n",
    "\n",
    "for line in bbc:\n",
    "    r = line.rstrip('\\n')       #using rstrip method to remove spaces and take each line to newline\n",
    "    \n",
    "    currency = re.findall('[$£]\\d*[.]?\\w*',r)    #regular expression to extract currency\n",
    "    \n",
    "    reg = re.compile('\\w[% -,.]?',re.MULTILINE).findall(\"\")   #regular expression to remove unwanted numbers \n",
    "    if currency == reg:\n",
    "        continue\n",
    "        \n",
    "    if r == \"\":\n",
    "        continue    \n",
    "    else:\n",
    "        print(currency)\n"
   ]
  },
  {
   "cell_type": "code",
   "execution_count": 4,
   "id": "c78e9f6c",
   "metadata": {},
   "outputs": [],
   "source": [
    "# 2: Write a regular expression that can matching all phone numbers listed #\n",
    "#below: (You can write a python program to check the matching results)# \n",
    "#555.123.456#5\n",
    "#+1-(800)-54#5-2468\n",
    "#2-(800)-545-2468\n",
    "#3-800-545-2468\n",
    "#555-123-3456\n",
    "#555 222 3342\n",
    "#(234) 234 2442\n",
    "#(243)-234-2342\n",
    "#1234567890\n",
    "#123.456.7890\n",
    "#123.4567\n",
    "#123-4567\n",
    "#1234567900\n",
    "#12345678900"
   ]
  },
  {
   "cell_type": "code",
   "execution_count": 5,
   "id": "d64cf197",
   "metadata": {},
   "outputs": [
    {
     "name": "stdout",
     "output_type": "stream",
     "text": [
      "0 <re.Match object; span=(0, 12), match='555.123.4565'>\n",
      "1 <re.Match object; span=(0, 17), match='+1-(800)-545-2468'>\n",
      "2 <re.Match object; span=(0, 16), match='2-(800)-545-2468'>\n",
      "3 <re.Match object; span=(0, 14), match='3-800-545-2468'>\n",
      "4 <re.Match object; span=(0, 12), match='555-123-3456'>\n",
      "5 <re.Match object; span=(0, 12), match='555 222 3342'>\n",
      "6 <re.Match object; span=(0, 14), match='(234) 234 2442'>\n",
      "7 <re.Match object; span=(0, 14), match='(243)-234-2342'>\n",
      "8 <re.Match object; span=(0, 10), match='1234567890'>\n",
      "9 <re.Match object; span=(0, 12), match='123.456.7890'>\n",
      "10 <re.Match object; span=(0, 8), match='123.4567'>\n",
      "11 <re.Match object; span=(0, 8), match='123-4567'>\n",
      "12 <re.Match object; span=(0, 10), match='1234567900'>\n",
      "13 <re.Match object; span=(0, 11), match='12345678900'>\n",
      "14 None\n"
     ]
    }
   ],
   "source": [
    "import re    # importing regular expression\n",
    "\n",
    "phonenumbers = [\n",
    "\"555.123.4565\",\n",
    "\"+1-(800)-545-2468\",\n",
    "\"2-(800)-545-2468\",\n",
    "\"3-800-545-2468\",\n",
    "\"555-123-3456\",\n",
    "\"555 222 3342\",\n",
    "\"(234) 234 2442\",\n",
    "\"(243)-234-2342\",\n",
    "\"1234567890\",\n",
    "\"123.456.7890\",\n",
    "\"123.4567\",\n",
    "\"123-4567\",\n",
    "\"1234567900\",\n",
    "\"12345678900\",\n",
    "\"hj\"\n",
    "]               #declaring phone numbers in a multiline string\n",
    "\n",
    "query = re.compile(r'(\\+?(\\d{1})?[. -]?)\\(?\\d{3}\\)?[. -]?\\d{3}[. -]?\\d{4}?|\\d{3}[. -]?\\d{4}?',re.MULTILINE)   #regular expression to match the phone numbers\n",
    "\n",
    "for i in range(len(phonenumbers)):     #loop to check and match each phone number with the regular expression\n",
    "    print (i, end = \" \")\n",
    "    print (query.search(phonenumbers[i]))     #printing each phone number result"
   ]
  },
  {
   "cell_type": "code",
   "execution_count": null,
   "id": "fd722835",
   "metadata": {},
   "outputs": [],
   "source": []
  }
 ],
 "metadata": {
  "kernelspec": {
   "display_name": "Python 3 (ipykernel)",
   "language": "python",
   "name": "python3"
  },
  "language_info": {
   "codemirror_mode": {
    "name": "ipython",
    "version": 3
   },
   "file_extension": ".py",
   "mimetype": "text/x-python",
   "name": "python",
   "nbconvert_exporter": "python",
   "pygments_lexer": "ipython3",
   "version": "3.10.7"
  }
 },
 "nbformat": 4,
 "nbformat_minor": 5
}
