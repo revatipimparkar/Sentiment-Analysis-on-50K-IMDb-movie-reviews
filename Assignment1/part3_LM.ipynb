{
 "cells": [
  {
   "cell_type": "code",
   "execution_count": 1,
   "id": "8a3568c2",
   "metadata": {},
   "outputs": [
    {
     "name": "stdout",
     "output_type": "stream",
     "text": [
      "Requirement already satisfied: nltk in c:\\users\\admin\\opencv\\opencv\\lib\\site-packages (3.7)\n",
      "Requirement already satisfied: regex>=2021.8.3 in c:\\users\\admin\\opencv\\opencv\\lib\\site-packages (from nltk) (2022.10.31)\n",
      "Requirement already satisfied: joblib in c:\\users\\admin\\opencv\\opencv\\lib\\site-packages (from nltk) (1.2.0)\n",
      "Requirement already satisfied: click in c:\\users\\admin\\opencv\\opencv\\lib\\site-packages (from nltk) (8.1.3)\n",
      "Requirement already satisfied: tqdm in c:\\users\\admin\\opencv\\opencv\\lib\\site-packages (from nltk) (4.64.1)\n",
      "Requirement already satisfied: colorama in c:\\users\\admin\\opencv\\opencv\\lib\\site-packages (from click->nltk) (0.4.5)\n"
     ]
    },
    {
     "name": "stderr",
     "output_type": "stream",
     "text": [
      "\n",
      "[notice] A new release of pip available: 22.2.2 -> 22.3.1\n",
      "[notice] To update, run: python.exe -m pip install --upgrade pip\n"
     ]
    }
   ],
   "source": [
    "!pip install nltk"
   ]
  },
  {
   "cell_type": "code",
   "execution_count": 2,
   "id": "9061f264",
   "metadata": {},
   "outputs": [
    {
     "name": "stderr",
     "output_type": "stream",
     "text": [
      "[nltk_data] Downloading package stopwords to\n",
      "[nltk_data]     C:\\Users\\ADMIN\\AppData\\Roaming\\nltk_data...\n",
      "[nltk_data]   Package stopwords is already up-to-date!\n"
     ]
    },
    {
     "data": {
      "text/plain": [
       "True"
      ]
     },
     "execution_count": 2,
     "metadata": {},
     "output_type": "execute_result"
    }
   ],
   "source": [
    "import nltk, re, pprint, string, random\n",
    "from nltk import word_tokenize, sent_tokenize\n",
    "\n",
    "from nltk import FreqDist\n",
    "nltk.download('stopwords')"
   ]
  },
  {
   "cell_type": "code",
   "execution_count": 3,
   "id": "267333f3",
   "metadata": {},
   "outputs": [
    {
     "name": "stderr",
     "output_type": "stream",
     "text": [
      "[nltk_data] Downloading package reuters to\n",
      "[nltk_data]     C:\\Users\\ADMIN\\AppData\\Roaming\\nltk_data...\n",
      "[nltk_data]   Package reuters is already up-to-date!\n"
     ]
    },
    {
     "data": {
      "text/plain": [
       "True"
      ]
     },
     "execution_count": 3,
     "metadata": {},
     "output_type": "execute_result"
    }
   ],
   "source": [
    "nltk.download('reuters')"
   ]
  },
  {
   "cell_type": "code",
   "execution_count": 4,
   "id": "347e1a48",
   "metadata": {},
   "outputs": [
    {
     "name": "stderr",
     "output_type": "stream",
     "text": [
      "[nltk_data] Downloading package punkt to\n",
      "[nltk_data]     C:\\Users\\ADMIN\\AppData\\Roaming\\nltk_data...\n",
      "[nltk_data]   Package punkt is already up-to-date!\n"
     ]
    },
    {
     "data": {
      "text/plain": [
       "True"
      ]
     },
     "execution_count": 4,
     "metadata": {},
     "output_type": "execute_result"
    }
   ],
   "source": [
    "nltk.download('punkt')"
   ]
  },
  {
   "cell_type": "code",
   "execution_count": 5,
   "id": "31edd36a",
   "metadata": {},
   "outputs": [],
   "source": [
    "from nltk.corpus import reuters\n",
    "from nltk.corpus import stopwords\n"
   ]
  },
  {
   "cell_type": "code",
   "execution_count": 6,
   "id": "165637d2",
   "metadata": {},
   "outputs": [],
   "source": [
    "file = reuters.sents()"
   ]
  },
  {
   "cell_type": "code",
   "execution_count": 7,
   "id": "2373fc74",
   "metadata": {},
   "outputs": [
    {
     "name": "stdout",
     "output_type": "stream",
     "text": [
      "[['ASIAN', 'EXPORTERS', 'FEAR', 'DAMAGE', 'FROM', 'U', '.', 'S', '.-', 'JAPAN', 'RIFT', 'Mounting', 'trade', 'friction', 'between', 'the', 'U', '.', 'S', '.', 'And', 'Japan', 'has', 'raised', 'fears', 'among', 'many', 'of', 'Asia', \"'\", 's', 'exporting', 'nations', 'that', 'the', 'row', 'could', 'inflict', 'far', '-', 'reaching', 'economic', 'damage', ',', 'businessmen', 'and', 'officials', 'said', '.'], ['They', 'told', 'Reuter', 'correspondents', 'in', 'Asian', 'capitals', 'a', 'U', '.', 'S', '.', 'Move', 'against', 'Japan', 'might', 'boost', 'protectionist', 'sentiment', 'in', 'the', 'U', '.', 'S', '.', 'And', 'lead', 'to', 'curbs', 'on', 'American', 'imports', 'of', 'their', 'products', '.'], ...]\n"
     ]
    }
   ],
   "source": [
    "print(file)"
   ]
  },
  {
   "cell_type": "code",
   "execution_count": 8,
   "id": "6689e29d",
   "metadata": {},
   "outputs": [
    {
     "data": {
      "text/plain": [
       "['then',\n",
       " 'were',\n",
       " 'so',\n",
       " 'its',\n",
       " 'him',\n",
       " 'after',\n",
       " \"needn't\",\n",
       " \"you'd\",\n",
       " \"shouldn't\",\n",
       " 'for',\n",
       " 'an',\n",
       " 'against',\n",
       " 'mightn',\n",
       " \"weren't\",\n",
       " 'most',\n",
       " 'themselves',\n",
       " 'down',\n",
       " 'from',\n",
       " \"you've\",\n",
       " 'will',\n",
       " 'ourselves',\n",
       " 'aren',\n",
       " 'this',\n",
       " \"wasn't\",\n",
       " 'have',\n",
       " 'has',\n",
       " 'we',\n",
       " 'her',\n",
       " 'myself',\n",
       " 'over',\n",
       " 'there',\n",
       " 'should',\n",
       " 'such',\n",
       " 'whom',\n",
       " 'more',\n",
       " 'on',\n",
       " 'again',\n",
       " 'was',\n",
       " 'weren',\n",
       " 'at',\n",
       " 'our',\n",
       " 'when',\n",
       " 'up',\n",
       " \"wouldn't\",\n",
       " 'them',\n",
       " \"it's\",\n",
       " \"shan't\",\n",
       " 'she',\n",
       " 'hadn',\n",
       " 'herself',\n",
       " 'further',\n",
       " 'couldn',\n",
       " 'his',\n",
       " \"doesn't\",\n",
       " 'a',\n",
       " 'during',\n",
       " 'both',\n",
       " \"haven't\",\n",
       " 'just',\n",
       " 'is',\n",
       " 'who',\n",
       " 'out',\n",
       " 'any',\n",
       " 'here',\n",
       " 'about',\n",
       " 'isn',\n",
       " 'be',\n",
       " 'll',\n",
       " 's',\n",
       " 'which',\n",
       " \"couldn't\",\n",
       " \"don't\",\n",
       " \"you're\",\n",
       " 'too',\n",
       " 'what',\n",
       " \"she's\",\n",
       " 'yours',\n",
       " 'am',\n",
       " 'through',\n",
       " 'the',\n",
       " 'nor',\n",
       " 'being',\n",
       " 'until',\n",
       " 'only',\n",
       " 'o',\n",
       " 'did',\n",
       " 'been',\n",
       " 'don',\n",
       " 'ours',\n",
       " 'between',\n",
       " 'ma',\n",
       " 'in',\n",
       " 've',\n",
       " \"that'll\",\n",
       " 'other',\n",
       " 'you',\n",
       " 'theirs',\n",
       " 'to',\n",
       " 'shouldn',\n",
       " 'or',\n",
       " 'with',\n",
       " 'some',\n",
       " 'hers',\n",
       " 'now',\n",
       " 'are',\n",
       " 'm',\n",
       " 'once',\n",
       " 'itself',\n",
       " 'ain',\n",
       " \"hasn't\",\n",
       " 'yourself',\n",
       " 'they',\n",
       " 'if',\n",
       " 'won',\n",
       " \"hadn't\",\n",
       " \"mustn't\",\n",
       " 'and',\n",
       " 'doesn',\n",
       " 'same',\n",
       " 'mustn',\n",
       " 'wouldn',\n",
       " 'himself',\n",
       " 'own',\n",
       " 'does',\n",
       " 'all',\n",
       " 'by',\n",
       " 'that',\n",
       " 't',\n",
       " 'd',\n",
       " 'wasn',\n",
       " 'because',\n",
       " \"mightn't\",\n",
       " 'yourselves',\n",
       " 'below',\n",
       " 'very',\n",
       " 'each',\n",
       " 're',\n",
       " \"should've\",\n",
       " 'their',\n",
       " 'into',\n",
       " 'how',\n",
       " 'few',\n",
       " 'didn',\n",
       " 'me',\n",
       " 'shan',\n",
       " 'it',\n",
       " 'no',\n",
       " 'i',\n",
       " 'haven',\n",
       " \"didn't\",\n",
       " 'not',\n",
       " 'your',\n",
       " 'these',\n",
       " 'do',\n",
       " 'but',\n",
       " 'can',\n",
       " \"aren't\",\n",
       " \"you'll\",\n",
       " 'those',\n",
       " 'doing',\n",
       " 'why',\n",
       " 'my',\n",
       " 'of',\n",
       " 'had',\n",
       " \"won't\",\n",
       " 'having',\n",
       " 'before',\n",
       " 'where',\n",
       " 'than',\n",
       " 'y',\n",
       " 'hasn',\n",
       " 'off',\n",
       " 'above',\n",
       " 'while',\n",
       " 'needn',\n",
       " 'he',\n",
       " \"isn't\",\n",
       " 'under',\n",
       " 'as',\n",
       " '!',\n",
       " '\"',\n",
       " '#',\n",
       " '$',\n",
       " '%',\n",
       " '&',\n",
       " \"'\",\n",
       " '(',\n",
       " ')',\n",
       " '*',\n",
       " '+',\n",
       " ',',\n",
       " '-',\n",
       " '/',\n",
       " ':',\n",
       " ';',\n",
       " '<',\n",
       " '=',\n",
       " '>',\n",
       " '?',\n",
       " '@',\n",
       " '[',\n",
       " '\\\\',\n",
       " ']',\n",
       " '^',\n",
       " '_',\n",
       " '`',\n",
       " '{',\n",
       " '|',\n",
       " '}',\n",
       " '~',\n",
       " '\"',\n",
       " '\"',\n",
       " '-',\n",
       " '+',\n",
       " '—',\n",
       " 'lt',\n",
       " 'rt']"
      ]
     },
     "execution_count": 8,
     "metadata": {},
     "output_type": "execute_result"
    }
   ],
   "source": [
    "# write the removal characters such as : Stopwords and punctuation\n",
    "stop_words = set(stopwords.words('english'))\n",
    "string.punctuation = string.punctuation +'\"'+'\"'+'-'+'''+'''+'—'\n",
    "string.punctuation = string.punctuation.replace('.', '')\n",
    "\n",
    "list_rem_punc = list(stop_words) + list(string.punctuation)+ ['lt','rt']\n",
    "list_rem_punc\n"
   ]
  },
  {
   "cell_type": "code",
   "execution_count": 9,
   "id": "fe501677",
   "metadata": {},
   "outputs": [
    {
     "name": "stdout",
     "output_type": "stream",
     "text": [
      "Most common n-grams without stopword removal and without add-1 smoothing: \n",
      "\n",
      "Most common bigrams:  [(('u', 's'), 5697), (('mln', 'dlrs'), 4400), (('said', 'it'), 4108), (('vs', 'mln'), 3945), (('mln', 'vs'), 3921)]\n",
      "\n",
      "Most common trigrams:  [(('mln', 'vs', 'mln'), 3402), (('the', 'u', 's'), 2107), (('cts', 'vs', 'cts'), 1779), (('revs', 'mln', 'vs'), 1515), (('shr', 'cts', 'vs'), 1446)]\n",
      "\n",
      "Most common fourgrams:  [(('revs', 'mln', 'vs', 'mln'), 1411), (('shr', 'cts', 'vs', 'cts'), 1220), (('cts', 'vs', 'cts', 'net'), 1078), (('vs', 'cts', 'net', 'vs'), 906), (('vs', 'revs', 'mln', 'vs'), 706)]\n"
     ]
    }
   ],
   "source": [
    "from nltk.util import ngrams\n",
    "#from nltk.corpus import stopwords\n",
    "#stop_words = set(stopwords.words('english'))\n",
    "unigram=[]\n",
    "bigram=[]\n",
    "trigram=[]\n",
    "fourgram=[]\n",
    "tokenized_text = []\n",
    "for sentence in file:\n",
    "    #sentence = sentence.lower()\n",
    "    #sequence = word_tokenize(sentence) \n",
    "    \n",
    "    words = [word.lower() for word in sentence if word[0].isalpha() ]\n",
    "    \n",
    "    for word in words:\n",
    "        if (word =='.'):\n",
    "            words.remove(word) \n",
    "        else:\n",
    "            unigram.append(word)\n",
    "            \n",
    "    tokenized_text.append(words) \n",
    "    bigram.extend(list(ngrams(words, 2)))\n",
    "    \n",
    "    \n",
    "#unigram, bigram, trigram, and fourgram models are created\n",
    "\n",
    "    trigram.extend(list(ngrams(words, 3)))\n",
    "    fourgram.extend(list(ngrams(words, 4)))\n",
    "def removal(x):     \n",
    "#removes ngrams containing only stopwords\n",
    "    y = []\n",
    "    for pair in x:\n",
    "        count = 0\n",
    "        for word in pair:\n",
    "            if word in list_rem_punc:\n",
    "                count = count or 0\n",
    "            else:\n",
    "                count = count or 1\n",
    "        if (count==1):\n",
    "            y.append(pair)\n",
    "    return(y)\n",
    "unigram = removal(unigram)\n",
    "bigram = removal(bigram)\n",
    "trigram = removal(trigram)             \n",
    "fourgram = removal(fourgram)\n",
    "\n",
    "freq_bi = nltk.FreqDist(bigram)\n",
    "freq_tri = nltk.FreqDist(trigram)\n",
    "freq_four = nltk.FreqDist(fourgram)\n",
    "\n",
    "print(\"Most common n-grams without stopword removal and without add-1 smoothing: \\n\")\n",
    "print (\"Most common bigrams: \", freq_bi.most_common(5))\n",
    "print (\"\\nMost common trigrams: \", freq_tri.most_common(5))\n",
    "print (\"\\nMost common fourgrams: \", freq_four.most_common(5))\n"
   ]
  },
  {
   "cell_type": "code",
   "execution_count": 10,
   "id": "43e03a4b",
   "metadata": {},
   "outputs": [
    {
     "name": "stdout",
     "output_type": "stream",
     "text": [
      "Most common n-grams with stopword removal and without add-1 smoothing: \n",
      "\n",
      "Most common unigrams:  [('mln', 18623), ('vs', 14341), ('dlrs', 12417), ('pct', 9810), ('lt', 8696), ('cts', 8361), ('year', 7529), ('net', 6989), ('u', 6392), ('billion', 5829)]\n",
      "\n",
      "Most common bigrams:  [(('mln', 'dlrs'), 4405), (('vs', 'mln'), 3947), (('mln', 'vs'), 3921), (('cts', 'vs'), 3311), (('cts', 'net'), 2196), (('vs', 'cts'), 1933), (('vs', 'loss'), 1783), (('billion', 'dlrs'), 1663), (('net', 'vs'), 1579), (('revs', 'mln'), 1549)]\n"
     ]
    }
   ],
   "source": [
    "#stopwords = code for downloading stop words through nltk\n",
    "from nltk.corpus import stopwords\n",
    "stop_words = set(stopwords.words('english'))\n",
    "#prints top 10 unigrams, bigrams after removing stopwords\n",
    "print(\"Most common n-grams with stopword removal and without add-1 smoothing: \\n\")\n",
    "unigram_sw_removed = [p for p in unigram if p not in stop_words]\n",
    "fdist = nltk.FreqDist(unigram_sw_removed)\n",
    "print(\"Most common unigrams: \", fdist.most_common(10))\n",
    "\n",
    "bigram_sw_removed = []\n",
    "bigram_sw_removed.extend(list(ngrams(unigram_sw_removed, 2)))\n",
    "fdist = nltk.FreqDist(bigram_sw_removed)\n",
    "print(\"\\nMost common bigrams: \", fdist.most_common(10))\n"
   ]
  },
  {
   "cell_type": "code",
   "execution_count": 11,
   "id": "43eb98dd",
   "metadata": {},
   "outputs": [
    {
     "name": "stdout",
     "output_type": "stream",
     "text": [
      "VOCAB FORMED IS :['collateralized', 'enquire', 'airsignal', 'industrialsed', 'neglecting', 'arrays', 'bond', 'trims', 'televison', 'figueras', 'cautions', 'searched', 'colony', 'bcsi', 'wander', 'sweetbaum', 'gaming', 'outraged', 'aza', 'htek', 'focusing', 'deskpro', 'gases', 'apera', 'penetrated', 'ori', 'antidumping', 'contender', 'mcmillan', 'allocated', 'chien', 'des', 'proof', 'hagerstown', 'declare', 'alloys', 'bolder', 'adhesive', 'robertsons', 'schweppes', 'further', 'gradin', 'powercise', 'discover', 'craftmatic', 'doe', 'shrinking', 'bc', 'sessions', 'michael']\n"
     ]
    }
   ],
   "source": [
    "#lower_reuters_corp = [w.lower() for w in file]\n",
    " \n",
    "vocab = set(unigram)\n",
    "\n",
    "print(\"VOCAB FORMED IS :\" +str(list(vocab)[:50]))"
   ]
  },
  {
   "cell_type": "code",
   "execution_count": 12,
   "id": "66172cb1",
   "metadata": {},
   "outputs": [
    {
     "name": "stdout",
     "output_type": "stream",
     "text": [
      "['ASIAN', 'EXPORTERS', 'FEAR', 'DAMAGE', 'FROM', 'U', ...]\n"
     ]
    }
   ],
   "source": [
    "reuters_corp = reuters.words()\n",
    "print(reuters_corp)\n",
    "\n",
    "\n"
   ]
  },
  {
   "cell_type": "code",
   "execution_count": 13,
   "id": "18dee66e",
   "metadata": {},
   "outputs": [
    {
     "name": "stdout",
     "output_type": "stream",
     "text": [
      "Total words in reuters corpus :1720901\n"
     ]
    }
   ],
   "source": [
    "print(\"Total words in reuters corpus :\" +str(len(reuters_corp)))    # lower_Casecorpus = unigram ,"
   ]
  },
  {
   "cell_type": "code",
   "execution_count": 14,
   "id": "dc8fd290",
   "metadata": {},
   "outputs": [
    {
     "name": "stdout",
     "output_type": "stream",
     "text": [
      "Total sentences in reuters file :54711\n",
      "Vocab of the unigram :1172066\n"
     ]
    }
   ],
   "source": [
    "print(\"Total sentences in reuters file :\" +str(len(file)))    \n",
    "print(\"Vocab of the unigram :\" +str(len(unigram)))"
   ]
  },
  {
   "cell_type": "code",
   "execution_count": 16,
   "id": "86f758eb",
   "metadata": {},
   "outputs": [],
   "source": [
    "unigram_count = {}\n",
    "bigram_counts = {}\n",
    "trigram_counts = {}\n",
    "\n",
    "# Traversing through Reuter's corpus to get bigram and trigram counts\n",
    "\n",
    "for i in range(len(unigram) - 2):\n",
    "    #getting bigram and trigram at each slide\n",
    "    #unigram = (unigram[i])\n",
    "    bigram = (unigram[i], unigram[i+1])\n",
    "    trigram = (unigram[i],unigram[i+1], unigram[i+2])\n",
    "            \n",
    "#Tracking the unigram counts\n",
    "               \n",
    "    if unigram in unigram_count.keys():\n",
    "        unigram_count[unigram] += 1\n",
    "    else:\n",
    "        unigram_count[unigram] = 1 \n",
    "            \n",
    "#Tracking the bigram counts\n",
    "               \n",
    "    if bigram in bigram_counts.keys():\n",
    "        bigram_counts[bigram] += 1 \n",
    "    else:\n",
    "         bigram_counts[bigram] = 1 \n",
    "            \n",
    "#Tracking the trigram counts\n",
    "               \n",
    "    if trigram in trigram_counts.keys():\n",
    "        trigram_counts[trigram] += 1\n",
    "    else:\n",
    "         trigram_counts[trigram] = 1 \n",
    " \n"
   ]
  },
  {
   "cell_type": "code",
   "execution_count": 17,
   "id": "c2080322",
   "metadata": {},
   "outputs": [],
   "source": [
    "#Function takes sentence as input and predicts the next possible word:\n",
    "\n",
    "def predict_next_word(input_):\n",
    "    #consider last bigram sentence\n",
    "    tokenized_input = word_tokenize(input_.lower())\n",
    "    last_bigram = tokenized_input[-2:]\n",
    "    \n",
    "    #calculating probability for each word in vocab\n",
    "    try:   \n",
    "        vocab_prob ={}\n",
    "        for vocab_word in vocab:\n",
    "            test_trigram = (last_bigram[0],last_bigram[1],vocab_word)\n",
    "            test_bigram =(last_bigram[0],last_bigram[1])\n",
    "        \n",
    "            test_trigram_counts = trigram_counts.get(test_trigram,0)\n",
    "            test_bigram_counts = bigram_counts.get(test_bigram,0)\n",
    "        \n",
    "        \n",
    "            probability = test_trigram_counts / test_bigram_counts\n",
    "            \n",
    "    except ZeroDivisionError:\n",
    "            probability = \"You cannot divide by 0.\"\n",
    "            vocab_prob[vocab_word] = probability\n",
    "        \n",
    "    #sorting the vocab probability in descending order to get top probable words\n",
    "    \n",
    "    top_suggests = sorted(vocab_prob.items(), key=lambda x: x[1], reverse=True)[:3]\n",
    "    return top_suggests"
   ]
  },
  {
   "cell_type": "code",
   "execution_count": 18,
   "id": "2ce7ee24",
   "metadata": {},
   "outputs": [
    {
     "data": {
      "text/plain": [
       "[('collateralized', 'You cannot divide by 0.')]"
      ]
     },
     "execution_count": 18,
     "metadata": {},
     "output_type": "execute_result"
    }
   ],
   "source": [
    "predict_next_word('he is')"
   ]
  },
  {
   "cell_type": "code",
   "execution_count": null,
   "id": "2a343fed",
   "metadata": {},
   "outputs": [],
   "source": []
  },
  {
   "cell_type": "code",
   "execution_count": null,
   "id": "dcf4d802",
   "metadata": {},
   "outputs": [],
   "source": []
  },
  {
   "cell_type": "code",
   "execution_count": null,
   "id": "0a8ef4c4",
   "metadata": {},
   "outputs": [],
   "source": [
    "\n"
   ]
  }
 ],
 "metadata": {
  "kernelspec": {
   "display_name": "Python 3 (ipykernel)",
   "language": "python",
   "name": "python3"
  },
  "language_info": {
   "codemirror_mode": {
    "name": "ipython",
    "version": 3
   },
   "file_extension": ".py",
   "mimetype": "text/x-python",
   "name": "python",
   "nbconvert_exporter": "python",
   "pygments_lexer": "ipython3",
   "version": "3.10.7"
  }
 },
 "nbformat": 4,
 "nbformat_minor": 5
}
